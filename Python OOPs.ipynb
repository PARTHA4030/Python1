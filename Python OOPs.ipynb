{
  "nbformat": 4,
  "nbformat_minor": 0,
  "metadata": {
    "colab": {
      "provenance": []
    },
    "kernelspec": {
      "name": "python3",
      "display_name": "Python 3"
    },
    "language_info": {
      "name": "python"
    }
  },
  "cells": [
    {
      "cell_type": "markdown",
      "source": [
        "# Theory Questions:- **Python OOPs**\n",
        "\n",
        "---\n",
        "\n"
      ],
      "metadata": {
        "id": "2eiiOIebFc1C"
      }
    },
    {
      "cell_type": "markdown",
      "source": [
        "# Q1. What is Object-Oriented Programming(OOP)?\n",
        "##  Definition  \n",
        "**Object-Oriented Programming (OOP)** is a programming paradigm based on the concept of **“objects”**, which can contain **data** (attributes) and **code** (methods).  \n",
        "It focuses on organizing software into reusable, modular pieces instead of writing code in a linear (procedural) way.\n",
        "\n"
      ],
      "metadata": {
        "id": "4Z5sH_LTF3Qn"
      }
    },
    {
      "cell_type": "markdown",
      "source": [
        "# Q2. What is a Class in OOP?\n",
        "\n",
        "A **class** in Object-Oriented Programming (OOP) is a **blueprint or template** that defines how to create objects.  \n",
        "It describes the **attributes (data/properties)** and **methods (functions/behaviors)** that the objects of that class will have.\n",
        "\n"
      ],
      "metadata": {
        "id": "G96jpgCoIl4D"
      }
    },
    {
      "cell_type": "markdown",
      "source": [
        "# Q3. What is an Object in OOP?\n",
        "\n",
        "An **object** in Object-Oriented Programming (OOP) is a **real-world entity** or an **instance of a class**.  \n",
        "It represents something that has **state (data/attributes)** and **behavior (methods/functions)**.\n",
        "\n"
      ],
      "metadata": {
        "id": "_WKSG2chKNKq"
      }
    },
    {
      "cell_type": "markdown",
      "source": [
        "# Q4. What is the Difference between Abstraction and Encapsulation?\n",
        "\n",
        "Both **Abstraction** and **Encapsulation** are key concepts of Object-Oriented Programming (OOP).  \n",
        "They sound similar but serve **different purposes**.\n",
        "\n",
        "\n",
        "### Tabular Difference:\n",
        "\n",
        "| Feature                | Abstraction  | Encapsulation  |\n",
        "|-------------------------|----------------|------------------|\n",
        "| **Definition**          | Hides implementation details, shows only essential features. | Bundles data and methods together, hides data from direct access. |\n",
        "| **Focus**               | *What* an object does. | *How* the data is hidden/protected. |\n",
        "| **Achieved using**      | Abstract classes, Interfaces. | Classes, Access Modifiers. |\n",
        "| **Real-Life Example**   | Car Driver only sees pedals & steering (not engine details). | Capsule wraps medicine inside. |\n",
        "\n",
        "\n"
      ],
      "metadata": {
        "id": "cTwxD8SlLBUi"
      }
    },
    {
      "cell_type": "markdown",
      "source": [
        "# Q5. What are Dunder Methods in Python?\n",
        "\n",
        "\n",
        "### Commonly Used Dunder Methods:\n",
        "\n",
        "| Dunder Method  | Purpose |\n",
        "|----------------|---------|\n",
        "| `__init__`     | Constructor → Initializes an object. |\n",
        "| `__str__`      | Returns a **string representation** of the object (used with `print()`). |\n",
        "| `__repr__`     | Official representation of the object (useful for debugging). |\n",
        "| `__len__`      | Defines behavior for `len(obj)`. |\n",
        "| `__add__`      | Defines behavior for `+` operator. |\n",
        "| `__eq__`       | Defines behavior for `==` operator. |\n",
        "| `__getitem__`  | Defines behavior for indexing `obj[i]`. |\n",
        "| `__call__`     | Makes an object callable like a function. |\n",
        "\n",
        "---\n",
        "\n"
      ],
      "metadata": {
        "id": "A6ro8PfAL1h2"
      }
    },
    {
      "cell_type": "markdown",
      "source": [
        "# Q6. Explain the Concept of Inheritance in OOP\n",
        "\n",
        "---\n",
        "\n",
        "### Definition:\n",
        "- **Inheritance** is an Object-Oriented Programming (OOP) concept where a **class (child/derived class)** can **reuse the properties and methods** of another class (parent/base class).  \n",
        "- It allows **code reusability** and represents an **“is-a” relationship** between classes.\n",
        "\n"
      ],
      "metadata": {
        "id": "GfSDqwfOMx4w"
      }
    },
    {
      "cell_type": "markdown",
      "source": [
        "# Q7. What is Polymorphism in OOP?\n",
        "\n",
        "---\n",
        "\n",
        "### Definition:\n",
        "- The word **Polymorphism** comes from Greek:  \n",
        "  - *Poly* = many  \n",
        "  - *Morph* = forms  \n",
        "- In OOP, **Polymorphism** means the ability of **different classes to respond to the same method name in different ways**.  \n",
        "- It allows a single function, operator, or method to have **multiple implementations**.\n",
        "\n"
      ],
      "metadata": {
        "id": "SMDa2dr5NXK9"
      }
    },
    {
      "cell_type": "markdown",
      "source": [
        "#Q8. How is Encapsulation achieved in Python?\n",
        "\n",
        "---\n",
        "\n",
        "### Definition Recap:\n",
        "- **Encapsulation** = wrapping up **data (variables)** and **methods (functions)** into a single unit (class).  \n",
        "- It also helps in **restricting direct access** to data by using *access modifiers*.\n",
        "\n",
        "---\n",
        "\n",
        "### Ways to Achieve Encapsulation in Python:\n",
        "\n",
        "1. **Using Classes**  \n",
        "   - Class binds data (attributes) and methods together.  \n",
        "   - Example: A `Car` class containing both `speed` and `drive()`.\n",
        "\n",
        "2. **Access Modifiers** in Python  \n",
        "   Python does not have strict private/protected keywords like Java or C++,  \n",
        "   but it achieves encapsulation through **naming conventions**:\n",
        "   \n",
        "   \n"
      ],
      "metadata": {
        "id": "4Jf7JSQ4PndN"
      }
    },
    {
      "cell_type": "markdown",
      "source": [
        "# Q9. What is a Constructor in Python?\n",
        "\n",
        "---\n",
        "\n",
        "### Definition:\n",
        "- A **constructor** in Python is a **special method** that is automatically called when an object of a class is created.  \n",
        "- Its main job is to **initialize the attributes (data members)** of the object.  \n",
        "\n"
      ],
      "metadata": {
        "id": "HtUrIYJIRCZT"
      }
    },
    {
      "cell_type": "markdown",
      "source": [
        "# Q10. What are Class and Static Methods in Python?\n",
        "\n",
        "---\n",
        "\n",
        " 1. Class Methods\n",
        "- A **class method** is a method that is bound to the **class itself**, not the object.\n",
        "- It can access and modify **class-level attributes** (shared across all objects).\n",
        "- Defined using the `@classmethod` decorator.\n",
        "- The first parameter is always `cls` (refers to the class).\n",
        "\n",
        "\n",
        "```\n",
        " 2.  Static Methods\n",
        "\n",
        "- A **static method** does not depend on the class `(cls)` or instance `(self)`.\n",
        "\n",
        "- Used when we want a utility/helper function inside a class.\n",
        "\n",
        "- Defined using the `@staticmethod` decorator.\n",
        "\n"
      ],
      "metadata": {
        "id": "e_qQSUUyUynY"
      }
    },
    {
      "cell_type": "markdown",
      "source": [
        "# Q11. What is Method Overloading in Python?\n",
        "\n",
        "\n",
        "- **Method Overloading** means having **multiple methods with the same name but different parameters** (like in Java/C++).\n",
        "- Python **does not support true method overloading** because:\n",
        "  - The **latest defined method** with the same name will overwrite the previous ones.\n",
        "\n"
      ],
      "metadata": {
        "id": "xYK9YvnRXsM8"
      }
    },
    {
      "cell_type": "markdown",
      "source": [
        "# Q12. What is Method Overriding in OOP?\n",
        "\n",
        "\n",
        "- **Method Overriding** occurs when a **child class provides a specific implementation** of a method that is already defined in its **parent class**.\n",
        "- The method in the child class must have:\n",
        "  - The **same name**\n",
        "  - The **same number of parameters**  \n",
        "as the method in the parent class.\n",
        "\n"
      ],
      "metadata": {
        "id": "QzmAqpWfZUhy"
      }
    },
    {
      "cell_type": "markdown",
      "source": [
        "#Q13. What is a Property Decorator in Python?\n",
        "\n",
        "- The **`@property` decorator** in Python is used to define methods in a class that can be accessed like **attributes** (without parentheses).\n",
        "- It allows you to:\n",
        "  1. **Encapsulate data** (hide internal representation).\n",
        "  2. Provide **getter, setter, and deleter** functionality in a clean and Pythonic way.\n",
        "- This makes your class more **readable** and **maintainable**.\n",
        "\n"
      ],
      "metadata": {
        "id": "8VRvXkIAaTky"
      }
    },
    {
      "cell_type": "markdown",
      "source": [
        "# Q14. Why is Polymorphism Important in OOP?\n",
        "\n",
        "\n",
        "### Importance of Polymorphism\n",
        "1. **Code Reusability**  \n",
        "   - Same function name can be used for different data types or classes.  \n",
        "   - Reduces duplication in code.\n",
        "\n",
        "2. **Flexibility & Maintainability**  \n",
        "   - Makes code more **extensible**.  \n",
        "   - New classes can be added without changing the existing code structure.\n",
        "\n",
        "3. **Readability**  \n",
        "   - Clearer and cleaner code because method names stay consistent.\n",
        "\n",
        "4. **Supports Dynamic Behavior**  \n",
        "   - Python resolves which method to call at **runtime** (dynamic polymorphism).  \n",
        "   - This enables writing **generic and reusable code**.\n",
        "\n"
      ],
      "metadata": {
        "id": "crKlENHxcHZT"
      }
    },
    {
      "cell_type": "markdown",
      "source": [
        "# Q15. What is an Abstract Class in Python?\n",
        "\n",
        "- An **abstract class** is a class that **cannot be instantiated directly**.  \n",
        "- It serves as a **blueprint for other classes**.  \n",
        "- Abstract classes can contain:\n",
        "  - **Abstract methods** → Methods declared but not implemented.\n",
        "  - **Concrete methods** → Normal methods with implementation.\n",
        "\n",
        "In Python, abstract classes are created using the **`abc` (Abstract Base Class)** module.\n",
        "\n"
      ],
      "metadata": {
        "id": "j9TI1HWT3QoM"
      }
    },
    {
      "cell_type": "markdown",
      "source": [
        "# Q16. What are the Advantages of Object-Oriented Programming (OOP)?\n",
        "\n",
        "Object-Oriented Programming (OOP) provides a structured way of writing code by organizing it around **objects** and **classes**.  \n",
        "It offers several advantages over traditional procedural programming.\n",
        "\n",
        "### Advantages of OOP\n",
        "\n",
        "1. **Modularity (Code Reusability)**\n",
        "   - Code is divided into classes and objects, making it **modular and reusable**.\n",
        "   - Once a class is created, it can be reused in different programs.\n",
        "\n",
        "2. **Encapsulation (Data Hiding)**\n",
        "   - Sensitive data can be hidden inside a class and accessed only through defined methods.\n",
        "   - This improves **security** and prevents misuse.\n",
        "\n",
        "3. **Inheritance**\n",
        "   - Classes can **reuse and extend** functionality from other classes.\n",
        "   - Promotes **code reusability** and avoids duplication.\n",
        "\n",
        "4. **Polymorphism**\n",
        "   - The same function or method can work in **different ways** depending on the object.\n",
        "   - Makes the code more **flexible and maintainable**.\n",
        "\n",
        "5. **Abstraction**\n",
        "   - Only essential details are shown, while complex implementation is hidden.\n",
        "   - Helps in reducing complexity.\n",
        "\n",
        "6. **Maintainability**\n",
        "   - OOP code is easier to **update, modify, and maintain** because each class is independent.\n",
        "\n",
        "7. **Scalability**\n",
        "   - Large projects can be managed efficiently as OOP makes it easier to divide work into **modules (classes)**.\n",
        "\n"
      ],
      "metadata": {
        "id": "Oo1eqF8O4IV9"
      }
    },
    {
      "cell_type": "markdown",
      "source": [
        "# Q17. What is the difference between a Class Variable and an Instance Variable?\n",
        "\n",
        "###  Key Differences between Class Variable and Instance Variable\n",
        "\n",
        "| Feature               | Class Variable                          | Instance Variable                  |\n",
        "|------------------------|-------------------------------------------|---------------------------------------|\n",
        "| **Where defined**      | Inside class, but **outside methods**     | Inside constructor (`__init__`) or methods using `self` |\n",
        "| **Shared by**          | **All objects** of the class              | **Only one object** (unique per instance) |\n",
        "| **Change effect**      | Change affects **all instances**          | Change affects **only that particular instance** |\n",
        "| **Accessed by**        | `ClassName.variable` or `self.variable`   | Always through `self.variable` |\n",
        "| **Memory usage**       | Stored once in memory (efficient)         | Each object keeps its own copy        |\n",
        "\n"
      ],
      "metadata": {
        "id": "Dbh8ebHx5Dji"
      }
    },
    {
      "cell_type": "markdown",
      "source": [
        "#Q18. What is multiple inheritance in Python?\n",
        "\n",
        "### Definition\n",
        "Multiple inheritance in Python is a feature of object-oriented programming where a single child class can inherit properties and methods from **two or more parent classes simultaneously**.  \n",
        "It allows the child class to combine the functionality of multiple classes, promoting **code reusability, flexibility, and better modeling of real-world scenarios**.\n",
        "\n"
      ],
      "metadata": {
        "id": "7uOf5n3R9777"
      }
    },
    {
      "cell_type": "markdown",
      "source": [
        "# 19. Explain the purpose of ‘’__str__’ and ‘__repr__’ ‘ methods in Python\n",
        "# `__str__` and `__repr__` Methods in Python\n",
        "\n",
        "In Python, both `__str__` and `__repr__` are **special methods** (also called dunder methods — \"double underscore\") that control how objects are represented as strings. They are very useful when printing or debugging objects.\n",
        "\n",
        "---\n",
        "\n",
        "### 1. `__str__` Method\n",
        "- **Purpose:** Returns a *human-readable* string representation of the object.  \n",
        "- It is called when you use the `print()` function or `str()` on an object.  \n",
        "- Should be **informal and easy to read** for end-users.\n",
        "\n",
        "\n",
        "### 2. `__repr__` Method\n",
        "- **Purpose:** Returns a *developer-friendly* string representation of the object.  \n",
        "- Mainly used for **debugging and logging**.  \n",
        "- The goal is to be **unambiguous**, often showing the code to recreate the object.  \n",
        "- If `__str__` is not defined, `print()` will fallback to `__repr__`.\n",
        "\n"
      ],
      "metadata": {
        "id": "pfD6sHUN_Omu"
      }
    },
    {
      "cell_type": "markdown",
      "source": [
        "# 20. What is the significance of the ‘super()’ function in Python?\n",
        "\n",
        "The `super()` function is a built-in function in Python that allows us to call methods from a **parent (superclass)** inside a **child (subclass)**.  \n",
        "It is mainly used in **inheritance** to avoid rewriting code and to ensure proper method resolution when multiple classes are involved.\n",
        "\n"
      ],
      "metadata": {
        "id": "U5DquPxDO1b_"
      }
    },
    {
      "cell_type": "markdown",
      "source": [
        "# 21. What is the significance of the __del__ method in Python?\n",
        "\n",
        "In Python, the `__del__` method is a **destructor method**.  \n",
        "It is called **automatically** when an object is about to be destroyed (i.e., when it goes out of scope or its reference count drops to zero).  \n"
      ],
      "metadata": {
        "id": "eLtka9ZPQCVC"
      }
    },
    {
      "cell_type": "markdown",
      "source": [
        "# 22. What is the difference between @staticmethod and @classmethod in Python?\n",
        "\n",
        "In Python, both `@staticmethod` and `@classmethod` are **decorators** used to define methods inside a class that are **not regular instance methods**.  \n",
        "They look similar, but they serve different purposes.\n",
        "Key Differences Between `@staticmethod` and `@classmethod`\n",
        "\n",
        "\n",
        "| Feature              | @staticmethod                                    | @classmethod                                      |\n",
        "|----------------------|----------------------------------------------------|----------------------------------------------------|\n",
        "| First Parameter      | No `self` or `cls`                                 | Takes `cls` as the first argument                  |\n",
        "| Access to Class Data |  Cannot access or modify class/instance variables |  Can access and modify class-level data           |\n",
        "| Usage                | Utility functions related to the class             | Factory methods or operations on class-level data   |\n",
        "| Call                 | Can be called via class or object                  | Can be called via class or object                  |\n",
        "\n",
        "\n"
      ],
      "metadata": {
        "id": "PXeRkrrPQ90w"
      }
    },
    {
      "cell_type": "markdown",
      "source": [
        "# 23. How does polymorphism work in Python with inheritance?\n",
        "\n",
        "**Polymorphism** means **\"many forms\"**.  \n",
        "In Python, it allows the same method or operation to behave differently depending on the object that calls it.  \n",
        "\n",
        "When combined with **inheritance**, polymorphism lets child classes provide their **own implementation** of methods that are already defined in the parent class.\n",
        "\n",
        "---\n",
        "\n",
        "How Polymorphism Works with Inheritance\n",
        "- A **parent class** defines a method.  \n",
        "- **Child classes** override (redefine) that method with their own behavior.  \n",
        "- When we call the method on different objects, Python automatically decides which version to execute (based on the object type).\n",
        "\n"
      ],
      "metadata": {
        "id": "Z3LiZh4TSWfz"
      }
    },
    {
      "cell_type": "markdown",
      "source": [
        "# 24. What is method chaining in Python OOP?\n",
        "\n",
        "**Method chaining** is a technique in object-oriented programming where **multiple methods are called sequentially on the same object in a single line**.  \n",
        "This is achieved by designing methods to **return `self`**, allowing the next method to be called directly on the same instance.\n"
      ],
      "metadata": {
        "id": "J56ycBcBTJlS"
      }
    },
    {
      "cell_type": "markdown",
      "source": [
        "# 25. What is the purpose of the __call__ method in Python?\n",
        "\n",
        "In Python, the `__call__` method is a **special (dunder) method** that allows an instance of a class to be **called like a regular function**.  \n",
        "This means that after defining `__call__`, you can use the object with parentheses `()` as if it were a function.\n",
        "\n"
      ],
      "metadata": {
        "id": "UEKrtXc2UCSL"
      }
    },
    {
      "cell_type": "markdown",
      "source": [
        "# **Practical Questions:-**"
      ],
      "metadata": {
        "id": "2kw0C2PorKAl"
      }
    },
    {
      "cell_type": "markdown",
      "source": [
        "# 1. Create a parent class Animal with a method speak() that prints a generic message. Create a child class Dog that overrides the speak() method to print \"Bark!\"."
      ],
      "metadata": {
        "id": "e36CcGDhr4tX"
      }
    },
    {
      "cell_type": "code",
      "source": [
        "# Parent class\n",
        "class Animal:\n",
        "    def speak(self):\n",
        "        print(\"This is forest animal\")\n",
        "\n",
        "# Child class\n",
        "class Dog(Animal):\n",
        "    def speak(self):\n",
        "        print(\"Bark!\")\n",
        "\n",
        "\n",
        "animal = Animal()\n",
        "animal.speak()\n",
        "\n",
        "dog = Dog()\n",
        "dog.speak()"
      ],
      "metadata": {
        "id": "MbWcGHbR0ttH",
        "outputId": "eba925da-cf77-4de0-8c3f-6462bbfdc659",
        "colab": {
          "base_uri": "https://localhost:8080/"
        }
      },
      "execution_count": 3,
      "outputs": [
        {
          "output_type": "stream",
          "name": "stdout",
          "text": [
            "This is forest animal\n",
            "Bark!\n"
          ]
        }
      ]
    },
    {
      "cell_type": "markdown",
      "source": [
        "# 2. Write a program to create an abstract class Shape with a method area(). Derive classes Circle and Rectangle from it and implement the area() method in both."
      ],
      "metadata": {
        "id": "XK2t2C-JvAeA"
      }
    },
    {
      "cell_type": "code",
      "source": [
        "from abc import ABC, abstractmethod\n",
        "\n",
        "# Abstract class\n",
        "class Shape(ABC):\n",
        "    @abstractmethod\n",
        "    def area(self):\n",
        "        pass\n",
        "\n",
        "# Circle class\n",
        "class Circle(Shape):\n",
        "    def __init__(self, radius):\n",
        "        self.radius = radius\n",
        "\n",
        "    def area(self):\n",
        "        return 3.14 * self.radius * self.radius\n",
        "\n",
        "# Rectangle class\n",
        "class Rectangle(Shape):\n",
        "    def __init__(self, length, width):\n",
        "        self.length = length\n",
        "        self.width = width\n",
        "\n",
        "    def area(self):\n",
        "        return self.length * self.width\n",
        "\n",
        "\n",
        "c = Circle(8)\n",
        "r = Rectangle(3, 9)\n",
        "\n",
        "print(\"Circle area:\", c.area())\n",
        "print(\"Rectangle area:\", r.area())"
      ],
      "metadata": {
        "id": "vCvZJMOZ1DuH",
        "outputId": "a40bf157-af40-4a5a-c477-8eefaa182359",
        "colab": {
          "base_uri": "https://localhost:8080/"
        }
      },
      "execution_count": 5,
      "outputs": [
        {
          "output_type": "stream",
          "name": "stdout",
          "text": [
            "Circle area: 200.96\n",
            "Rectangle area: 27\n"
          ]
        }
      ]
    },
    {
      "cell_type": "markdown",
      "source": [
        "#3. Implement a multi-level inheritance scenario where a class Vehicle has an attribute type. Derive a class Car and further derive a class ElectricCar that adds a battery attribute"
      ],
      "metadata": {
        "id": "m2d35_ifwRed"
      }
    },
    {
      "cell_type": "code",
      "source": [
        "# Parent class\n",
        "class Vehicle:\n",
        "    def __init__(self, type):\n",
        "        self.type = type\n",
        "\n",
        "# Child class\n",
        "class Car(Vehicle):\n",
        "    def __init__(self, type, model):\n",
        "        super().__init__(type)\n",
        "        self.model = model\n",
        "\n",
        "# Grandchild class\n",
        "class ElectricCar(Car):\n",
        "    def __init__(self, type, model, battery):\n",
        "        super().__init__(type, model)\n",
        "        self.battery = battery\n",
        "\n",
        "\n",
        "ecar = ElectricCar(\"Car\", \"Tesla Model 3\", \"75 kWh\")\n",
        "print(\"Type:\", ecar.type)\n",
        "print(\"Model:\", ecar.model)\n",
        "print(\"Battery:\", ecar.battery)\n"
      ],
      "metadata": {
        "colab": {
          "base_uri": "https://localhost:8080/"
        },
        "id": "NzltEJvPweqY",
        "outputId": "8cdfd151-9b4f-4b79-c0a6-84335003c2bc"
      },
      "execution_count": null,
      "outputs": [
        {
          "output_type": "stream",
          "name": "stdout",
          "text": [
            "Type: Car\n",
            "Model: Tesla Model 3\n",
            "Battery: 75 kWh\n"
          ]
        }
      ]
    },
    {
      "cell_type": "markdown",
      "source": [
        "# 4. Demonstrate polymorphism by creating a base class Bird with a method fly(). Create two derived classes Sparrow and Penguin that override the fly() method.\n"
      ],
      "metadata": {
        "id": "qeaTV0QqxoFu"
      }
    },
    {
      "cell_type": "code",
      "source": [
        "# Base class\n",
        "class Bird:\n",
        "    def fly(self):\n",
        "        print(\"Some birds can fly\")\n",
        "\n",
        "# Derived class Sparrow\n",
        "class Sparrow(Bird):\n",
        "    def fly(self):\n",
        "        print(\"Sparrow can fly high\")\n",
        "\n",
        "# Derived class Penguin\n",
        "class Penguin(Bird):\n",
        "    def fly(self):\n",
        "        print(\"Penguin cannot fly\")\n",
        "\n",
        "birds = [Sparrow(), Penguin()]\n",
        "\n",
        "for bird in birds:\n",
        "    bird.fly()\n"
      ],
      "metadata": {
        "colab": {
          "base_uri": "https://localhost:8080/"
        },
        "id": "GyG-dpaKx2yK",
        "outputId": "6175b5fc-9f34-4f8c-de80-a64dbdf0166e"
      },
      "execution_count": null,
      "outputs": [
        {
          "output_type": "stream",
          "name": "stdout",
          "text": [
            "Sparrow can fly high\n",
            "Penguin cannot fly\n"
          ]
        }
      ]
    },
    {
      "cell_type": "markdown",
      "source": [
        "# 5. Write a program to demonstrate encapsulation by creating a class BankAccount with private attributes balance and methods to deposit, withdraw, and check balance."
      ],
      "metadata": {
        "id": "UWlqU3RfyGE3"
      }
    },
    {
      "cell_type": "code",
      "source": [
        "# Encapsulation example\n",
        "class BankAccount:\n",
        "    def __init__(self, balance):\n",
        "        self.__balance = balance  # private attribute\n",
        "\n",
        "    def deposit(self, amount):\n",
        "        self.__balance += amount\n",
        "        print(f\"Deposited: {amount}\")\n",
        "\n",
        "    def withdraw(self, amount):\n",
        "        if amount <= self.__balance:\n",
        "            self.__balance -= amount\n",
        "            print(f\"Withdrawn: {amount}\")\n",
        "        else:\n",
        "            print(\"Insufficient balance\")\n",
        "\n",
        "    def check_balance(self):\n",
        "        print(f\"Balance: {self.__balance}\")\n",
        "\n",
        "account = BankAccount(1000)\n",
        "account.deposit(500)\n",
        "account.withdraw(300)\n",
        "account.check_balance()\n"
      ],
      "metadata": {
        "colab": {
          "base_uri": "https://localhost:8080/"
        },
        "id": "eBIPTsVJyYQa",
        "outputId": "e075da6b-8dbf-49d1-f26b-43c238e7ba17"
      },
      "execution_count": null,
      "outputs": [
        {
          "output_type": "stream",
          "name": "stdout",
          "text": [
            "Deposited: 500\n",
            "Withdrawn: 300\n",
            "Balance: 1200\n"
          ]
        }
      ]
    },
    {
      "cell_type": "markdown",
      "source": [
        "# 6. Demonstrate runtime polymorphism using a method play() in a base class Instrument. Derive classes Guitar and Piano that implement their own version of play()."
      ],
      "metadata": {
        "id": "t-hzWObbyh_M"
      }
    },
    {
      "cell_type": "code",
      "source": [
        "# Base class\n",
        "class Instrument:\n",
        "    def play(self):\n",
        "        print(\"Playing instrument\")\n",
        "\n",
        "# Derived class Guitar\n",
        "class Guitar(Instrument):\n",
        "    def play(self):\n",
        "        print(\"Playing guitar\")\n",
        "\n",
        "# Derived class Piano\n",
        "class Piano(Instrument):\n",
        "    def play(self):\n",
        "        print(\"Playing piano\")\n",
        "\n",
        "# Testing runtime polymorphism\n",
        "instruments = [Guitar(), Piano()]\n",
        "\n",
        "for instrument in instruments:\n",
        "    instrument.play()\n"
      ],
      "metadata": {
        "colab": {
          "base_uri": "https://localhost:8080/"
        },
        "id": "74eDE8Sdypuh",
        "outputId": "c6d90eec-3964-4146-8282-44a7b1e925de"
      },
      "execution_count": null,
      "outputs": [
        {
          "output_type": "stream",
          "name": "stdout",
          "text": [
            "Playing guitar\n",
            "Playing piano\n"
          ]
        }
      ]
    },
    {
      "cell_type": "markdown",
      "source": [
        "# 7. Create a class MathOperations with a class method add_numbers() to add two numbers and a static method subtract_numbers() to subtract two numbers."
      ],
      "metadata": {
        "id": "kpaUtpxZy081"
      }
    },
    {
      "cell_type": "code",
      "source": [
        "# Class demonstrating classmethod and staticmethod\n",
        "class MathOperations:\n",
        "\n",
        "    @classmethod\n",
        "    def add_numbers(cls, a, b):\n",
        "        return a + b\n",
        "\n",
        "    @staticmethod\n",
        "    def subtract_numbers(a, b):\n",
        "        return a - b\n",
        "\n",
        "print(\"Addition:\", MathOperations.add_numbers(10, 5))\n",
        "print(\"Subtraction:\", MathOperations.subtract_numbers(10, 5))\n"
      ],
      "metadata": {
        "colab": {
          "base_uri": "https://localhost:8080/"
        },
        "id": "QYejLHcDzDpb",
        "outputId": "963e531e-e978-4074-9d22-2fd47f4cb65a"
      },
      "execution_count": null,
      "outputs": [
        {
          "output_type": "stream",
          "name": "stdout",
          "text": [
            "Addition: 15\n",
            "Subtraction: 5\n"
          ]
        }
      ]
    },
    {
      "cell_type": "markdown",
      "source": [
        "# 8. Implement a class Person with a class method to count the total number of persons created."
      ],
      "metadata": {
        "id": "w9yMtUKszgfS"
      }
    },
    {
      "cell_type": "code",
      "source": [
        "# Class demonstrating counting instances using class method\n",
        "class Person:\n",
        "    count = 0  # Class variable to track number of persons\n",
        "\n",
        "    def __init__(self, name):\n",
        "        self.name = name\n",
        "        Person.count += 1\n",
        "\n",
        "    @classmethod\n",
        "    def total_persons(cls):\n",
        "        return cls.count\n",
        "\n",
        "\n",
        "p1 = Person(\"Ritesh\")\n",
        "p2 = Person(\"Aditi\")\n",
        "p3 = Person(\"Anshu\")\n",
        "\n",
        "print(\"Total persons created:\", Person.total_persons())\n"
      ],
      "metadata": {
        "colab": {
          "base_uri": "https://localhost:8080/"
        },
        "id": "TDi0Bdvyzl2E",
        "outputId": "207ce011-c35c-4303-e66a-33aeeb6ed163"
      },
      "execution_count": null,
      "outputs": [
        {
          "output_type": "stream",
          "name": "stdout",
          "text": [
            "Total persons created: 3\n"
          ]
        }
      ]
    },
    {
      "cell_type": "markdown",
      "source": [
        "# 9. Write a class Fraction with attributes numerator and denominator. Override the str method to display the fraction as \"numerator/denominator\"."
      ],
      "metadata": {
        "id": "fuItCR-p0pKr"
      }
    },
    {
      "cell_type": "code",
      "source": [
        "# Class demonstrating __str__ method\n",
        "class Fraction:\n",
        "    def __init__(self, numerator, denominator):\n",
        "        self.numerator = numerator\n",
        "        self.denominator = denominator\n",
        "\n",
        "    def __str__(self):\n",
        "        return f\"{self.numerator}/{self.denominator}\"\n",
        "\n",
        "\n",
        "f = Fraction(3, 4)\n",
        "print(f)\n"
      ],
      "metadata": {
        "colab": {
          "base_uri": "https://localhost:8080/"
        },
        "id": "4bcGIRiA0wR5",
        "outputId": "b52ccda6-be0c-4f44-d5d9-d0191c0952a2"
      },
      "execution_count": null,
      "outputs": [
        {
          "output_type": "stream",
          "name": "stdout",
          "text": [
            "3/4\n"
          ]
        }
      ]
    },
    {
      "cell_type": "markdown",
      "source": [
        "# 10. Demonstrate operator overloading by creating a class Vector and overriding the add method to add two vectors"
      ],
      "metadata": {
        "id": "rG3TZ2zJ1DXN"
      }
    },
    {
      "cell_type": "code",
      "source": [
        "# Class demonstrating operator overloading\n",
        "class Vector:\n",
        "    def __init__(self, x, y):\n",
        "        self.x = x\n",
        "        self.y = y\n",
        "\n",
        "    # Overloading the + operator\n",
        "    def __add__(self, other):\n",
        "        return Vector(self.x + other.x, self.y + other.y)\n",
        "\n",
        "    def __str__(self):\n",
        "        return f\"({self.x}, {self.y})\"\n",
        "\n",
        "\n",
        "v1 = Vector(2, 3)\n",
        "v2 = Vector(4, 5)\n",
        "v3 = v1 + v2\n",
        "\n",
        "print(\"Vector addition:\", v3)\n"
      ],
      "metadata": {
        "colab": {
          "base_uri": "https://localhost:8080/"
        },
        "id": "eSJvR03u1Iu_",
        "outputId": "4e39325b-758a-4f38-b849-f3c6ee481527"
      },
      "execution_count": null,
      "outputs": [
        {
          "output_type": "stream",
          "name": "stdout",
          "text": [
            "Vector addition: (6, 8)\n"
          ]
        }
      ]
    },
    {
      "cell_type": "markdown",
      "source": [
        "# 11. Create a class Person with attributes name and age. Add a method greet() that prints \"Hello, my name is {name} and I am {age} years old.\""
      ],
      "metadata": {
        "id": "L2zI8iGv1zCN"
      }
    },
    {
      "cell_type": "code",
      "source": [
        "# Simple class with instance attributes and method\n",
        "class Person:\n",
        "    def __init__(self, name, age):\n",
        "        self.name = name\n",
        "        self.age = age\n",
        "\n",
        "    def greet(self):\n",
        "        print(f\"Hello, my name is {self.name} and I am {self.age} years old.\")\n",
        "\n",
        "# Testing\n",
        "p = Person(\"Ritesh\", 21)\n",
        "p1 = Person(\"Aditi\",20)\n",
        "p.greet()\n",
        "p1.greet()\n"
      ],
      "metadata": {
        "colab": {
          "base_uri": "https://localhost:8080/"
        },
        "id": "6dGZsCjn21s2",
        "outputId": "5fed320b-0153-47b8-dd78-3ec14c72cc30"
      },
      "execution_count": null,
      "outputs": [
        {
          "output_type": "stream",
          "name": "stdout",
          "text": [
            "Hello, my name is Ritesh and I am 21 years old.\n",
            "Hello, my name is Aditi and I am 20 years old.\n"
          ]
        }
      ]
    },
    {
      "cell_type": "markdown",
      "source": [
        "# 12. Implement a class Student with attributes name and grades. Create a method average_grade() to compute the average of the grades."
      ],
      "metadata": {
        "id": "ZZKWvHYL3Kaj"
      }
    },
    {
      "cell_type": "code",
      "source": [
        "# Class demonstrating method to calculate average\n",
        "class Student:\n",
        "    def __init__(self, name, grades):\n",
        "        self.name = name\n",
        "        self.grades = grades  # List of grades\n",
        "\n",
        "    def average_grade(self):\n",
        "        return sum(self.grades) / len(self.grades) if self.grades else 0\n",
        "\n",
        "s = Student(\"Ritesh\", [85, 90, 78, 92])\n",
        "print(\"Average grade:\", s.average_grade())\n"
      ],
      "metadata": {
        "colab": {
          "base_uri": "https://localhost:8080/"
        },
        "id": "1t2H9ALd3PhZ",
        "outputId": "b371e75f-0c73-4829-94a2-59f7f3fceea0"
      },
      "execution_count": null,
      "outputs": [
        {
          "output_type": "stream",
          "name": "stdout",
          "text": [
            "Average grade: 86.25\n"
          ]
        }
      ]
    },
    {
      "cell_type": "markdown",
      "source": [
        "# 13. Create a class Rectangle with methods set_dimensions() to set the dimensions and area() to calculate the area."
      ],
      "metadata": {
        "id": "CbtODqpd3iWS"
      }
    },
    {
      "cell_type": "code",
      "source": [
        "# Rectangle class with set_dimensions and area methods\n",
        "class Rectangle:\n",
        "    def set_dimensions(self, length, width):\n",
        "        self.length = length\n",
        "        self.width = width\n",
        "\n",
        "    def area(self):\n",
        "        return self.length * self.width\n",
        "\n",
        "# Testing\n",
        "rect = Rectangle()\n",
        "rect.set_dimensions(5, 3)\n",
        "print(\"Area of rectangle:\", rect.area())\n"
      ],
      "metadata": {
        "colab": {
          "base_uri": "https://localhost:8080/"
        },
        "id": "oOPuvCPv3k4f",
        "outputId": "012fc524-5817-4752-8556-b7cef5d4819b"
      },
      "execution_count": null,
      "outputs": [
        {
          "output_type": "stream",
          "name": "stdout",
          "text": [
            "Area of rectangle: 15\n"
          ]
        }
      ]
    },
    {
      "cell_type": "markdown",
      "source": [
        "# 14. Create a class Employee with a method calculate_salary() that computes the salary based on hours worked and hourly rate. Create a derived class Manager that adds a bonus to the salary"
      ],
      "metadata": {
        "id": "JwkitUnd3shS"
      }
    },
    {
      "cell_type": "code",
      "source": [
        "# Base class\n",
        "class Employee:\n",
        "    def __init__(self, name, hours_worked, hourly_rate):\n",
        "        self.name = name\n",
        "        self.hours_worked = hours_worked\n",
        "        self.hourly_rate = hourly_rate\n",
        "\n",
        "    def calculate_salary(self):\n",
        "        return self.hours_worked * self.hourly_rate\n",
        "\n",
        "# Derived class\n",
        "class Manager(Employee):\n",
        "    def __init__(self, name, hours_worked, hourly_rate, bonus):\n",
        "        super().__init__(name, hours_worked, hourly_rate)\n",
        "        self.bonus = bonus\n",
        "\n",
        "    def calculate_salary(self):\n",
        "        return super().calculate_salary() + self.bonus\n",
        "\n",
        "# Testing\n",
        "emp = Employee(\"Ritesh\", 40, 20)\n",
        "mgr = Manager(\"Aditi\", 40, 20, 500)\n",
        "\n",
        "print(\"Employee salary:\", emp.calculate_salary())\n",
        "print(\"Manager salary:\", mgr.calculate_salary())\n"
      ],
      "metadata": {
        "colab": {
          "base_uri": "https://localhost:8080/"
        },
        "id": "YoUpQcsD3xji",
        "outputId": "c20ac01f-3757-4f6d-d169-03e5408d454c"
      },
      "execution_count": null,
      "outputs": [
        {
          "output_type": "stream",
          "name": "stdout",
          "text": [
            "Employee salary: 800\n",
            "Manager salary: 1300\n"
          ]
        }
      ]
    },
    {
      "cell_type": "markdown",
      "source": [
        "# 15. Create a class Product with attributes name, price, and quantity. Implement a method total_price() that calculates the total price of the product."
      ],
      "metadata": {
        "id": "xGD_L4z54VJT"
      }
    },
    {
      "cell_type": "code",
      "source": [
        "# Product class with total_price method\n",
        "class Product:\n",
        "    def __init__(self, name, price, quantity):\n",
        "        self.name = name\n",
        "        self.price = price\n",
        "        self.quantity = quantity\n",
        "\n",
        "    def total_price(self):\n",
        "        return self.price * self.quantity\n",
        "\n",
        "# Testing\n",
        "p = Product(\"Laptop\", 500, 3)\n",
        "print(\"Total price:\", p.total_price())\n"
      ],
      "metadata": {
        "colab": {
          "base_uri": "https://localhost:8080/"
        },
        "id": "NFfYaq4B4aXf",
        "outputId": "e81edfcd-5df6-4cd0-dcf5-fba15d36f6c9"
      },
      "execution_count": null,
      "outputs": [
        {
          "output_type": "stream",
          "name": "stdout",
          "text": [
            "Total price: 1500\n"
          ]
        }
      ]
    },
    {
      "cell_type": "markdown",
      "source": [
        "# 16. Create a class Animal with an abstract method sound(). Create two derived classes Cow and Sheep that implement the sound() method."
      ],
      "metadata": {
        "id": "0DpmEbFe45LQ"
      }
    },
    {
      "cell_type": "code",
      "source": [
        "from abc import ABC, abstractmethod\n",
        "\n",
        "# Abstract class\n",
        "class Animal(ABC):\n",
        "    @abstractmethod\n",
        "    def sound(self):\n",
        "        pass\n",
        "\n",
        "# Derived class Cow\n",
        "class Cow(Animal):\n",
        "    def sound(self):\n",
        "        print(\"Moo\")\n",
        "\n",
        "# Derived class Sheep\n",
        "class Sheep(Animal):\n",
        "    def sound(self):\n",
        "        print(\"Baa\")\n",
        "\n",
        "\n",
        "cow = Cow()\n",
        "sheep = Sheep()\n",
        "\n",
        "cow.sound()\n",
        "sheep.sound()\n"
      ],
      "metadata": {
        "colab": {
          "base_uri": "https://localhost:8080/"
        },
        "id": "LOUQd90A49ZR",
        "outputId": "5841ef3a-cab6-42cf-fd7d-00e6fc6d87e7"
      },
      "execution_count": null,
      "outputs": [
        {
          "output_type": "stream",
          "name": "stdout",
          "text": [
            "Moo\n",
            "Baa\n"
          ]
        }
      ]
    },
    {
      "cell_type": "markdown",
      "source": [
        "# 17. Create a class Book with attributes title, author, and year_published. Add a method get_book_info() that returns a formatted string with the book's details."
      ],
      "metadata": {
        "id": "YajpKQuj5HjQ"
      }
    },
    {
      "cell_type": "code",
      "source": [
        "# Book class with get_book_info method\n",
        "class Book:\n",
        "    def __init__(self, title, author, year_published):\n",
        "        self.title = title\n",
        "        self.author = author\n",
        "        self.year_published = year_published\n",
        "\n",
        "    def get_book_info(self):\n",
        "        return f\"'{self.title}' by {self.author}, published in {self.year_published}\"\n",
        "\n",
        "\n",
        "b = Book(\"1984\", \"George Orwell\", 1949)\n",
        "print(b.get_book_info())\n"
      ],
      "metadata": {
        "colab": {
          "base_uri": "https://localhost:8080/"
        },
        "id": "edWieXUz5Pz9",
        "outputId": "9aa80bac-a942-40b1-8604-efcfb3d67b7a"
      },
      "execution_count": null,
      "outputs": [
        {
          "output_type": "stream",
          "name": "stdout",
          "text": [
            "'1984' by George Orwell, published in 1949\n"
          ]
        }
      ]
    },
    {
      "cell_type": "markdown",
      "source": [
        "# 18. Create a class House with attributes address and price. Create a derived class Mansion that adds an attribute number_of_rooms."
      ],
      "metadata": {
        "id": "N1NlCYEf5f1F"
      }
    },
    {
      "cell_type": "code",
      "source": [
        "# Parent class\n",
        "class House:\n",
        "    def __init__(self, address, price):\n",
        "        self.address = address\n",
        "        self.price = price\n",
        "\n",
        "# Derived class\n",
        "class Mansion(House):\n",
        "    def __init__(self, address, price, number_of_rooms):\n",
        "        super().__init__(address, price)\n",
        "        self.number_of_rooms = number_of_rooms\n",
        "\n",
        "# Testing\n",
        "m = Mansion(\"123 Luxury St\", 500000, 8)\n",
        "print(\"Address:\", m.address)\n",
        "print(\"Price:\", m.price)\n",
        "print(\"Number of rooms:\", m.number_of_rooms)\n"
      ],
      "metadata": {
        "id": "YjIn1njQ5jq5",
        "outputId": "e9617c23-d5cf-4d0f-8ba9-a64fd9224970",
        "colab": {
          "base_uri": "https://localhost:8080/"
        }
      },
      "execution_count": null,
      "outputs": [
        {
          "output_type": "stream",
          "name": "stdout",
          "text": [
            "Address: 123 Luxury St\n",
            "Price: 500000\n",
            "Number of rooms: 8\n"
          ]
        }
      ]
    }
  ]
}